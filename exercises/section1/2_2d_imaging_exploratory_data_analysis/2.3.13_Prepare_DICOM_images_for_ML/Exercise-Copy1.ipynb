{
 "cells": [
  {
   "cell_type": "code",
   "execution_count": 1,
   "metadata": {},
   "outputs": [],
   "source": [
    "import pandas as pd\n",
    "import numpy as np\n",
    "import pydicom\n",
    "import glob"
   ]
  },
  {
   "cell_type": "code",
   "execution_count": 2,
   "metadata": {},
   "outputs": [],
   "source": [
    "## First, read all of my DICOM files into a list\n",
    "mydicoms = glob.glob(\"*.dcm\")"
   ]
  },
  {
   "cell_type": "markdown",
   "metadata": {},
   "source": [
    "### Let's look at the contents of the first DICOM:"
   ]
  },
  {
   "cell_type": "code",
   "execution_count": 3,
   "metadata": {},
   "outputs": [
    {
     "data": {
      "text/plain": [
       "Dataset.file_meta -------------------------------\n",
       "(0002, 0000) File Meta Information Group Length  UL: 204\n",
       "(0002, 0001) File Meta Information Version       OB: b'\\x00\\x01'\n",
       "(0002, 0002) Media Storage SOP Class UID         UI: Secondary Capture Image Storage\n",
       "(0002, 0003) Media Storage SOP Instance UID      UI: 1.3.6.1.4.1.11129.5.5.185126564350931428005573856598500696723485\n",
       "(0002, 0010) Transfer Syntax UID                 UI: Implicit VR Little Endian\n",
       "(0002, 0012) Implementation Class UID            UI: 1.2.826.0.1.3680043.8.498.1\n",
       "(0002, 0013) Implementation Version Name         SH: 'PYDICOM 1.2.0'\n",
       "-------------------------------------------------\n",
       "(0008, 0016) SOP Class UID                       UI: Secondary Capture Image Storage\n",
       "(0008, 0018) SOP Instance UID                    UI: 1.3.6.1.4.1.11129.5.5.185126564350931428005573856598500696723485\n",
       "(0008, 0060) Modality                            CS: 'DX'\n",
       "(0008, 1030) Study Description                   LO: 'Infiltration|Nodule'\n",
       "(0010, 0020) Patient ID                          LO: '1688'\n",
       "(0010, 0040) Patient's Sex                       CS: 'F'\n",
       "(0010, 1010) Patient's Age                       AS: '59'\n",
       "(0020, 000d) Study Instance UID                  UI: 1.3.6.1.4.1.11129.5.5.111281257301391315034730056975613848734916\n",
       "(0020, 000e) Series Instance UID                 UI: 1.3.6.1.4.1.11129.5.5.142777112548345374155789923253318152185151\n",
       "(0028, 0002) Samples per Pixel                   US: 1\n",
       "(0028, 0004) Photometric Interpretation          CS: 'MONOCHROME2'\n",
       "(0028, 0010) Rows                                US: 1024\n",
       "(0028, 0011) Columns                             US: 1024\n",
       "(0028, 0100) Bits Allocated                      US: 8\n",
       "(0028, 0101) Bits Stored                         US: 8\n",
       "(0028, 0102) High Bit                            US: 7\n",
       "(0028, 0103) Pixel Representation                US: 0\n",
       "(7fe0, 0010) Pixel Data                          OW: Array of 1048576 elements"
      ]
     },
     "execution_count": 3,
     "metadata": {},
     "output_type": "execute_result"
    }
   ],
   "source": [
    "dcm1 = pydicom.dcmread(mydicoms[0])\n",
    "dcm1"
   ]
  },
  {
   "cell_type": "code",
   "execution_count": 6,
   "metadata": {},
   "outputs": [
    {
     "data": {
      "text/plain": [
       "'F'"
      ]
     },
     "execution_count": 6,
     "metadata": {},
     "output_type": "execute_result"
    }
   ],
   "source": [
    "## Do some exploratory work before about how to extract these attributes using pydicom... \n",
    "dcm1.PatientSex\n",
    "\n",
    "\n",
    "\n"
   ]
  },
  {
   "cell_type": "markdown",
   "metadata": {},
   "source": [
    "## Now, let's create the dataframe that we want, and populate it in a loop with all of our DICOMS:\n",
    "\n",
    "To complete this exercise, create a single dataframe that has the following columns:\n",
    "- Patient ID\n",
    "- Patient Age (as an integer)\n",
    "- Patient Sex (M/F)\n",
    "- Imaging Modality\n",
    "- Type of finding in the image\n",
    "- Number of rows in the image\n",
    "- Number of columns in the image\n",
    "\n",
    "Save this dataframe as a .CSV file."
   ]
  },
  {
   "cell_type": "code",
   "execution_count": 14,
   "metadata": {},
   "outputs": [
    {
     "data": {
      "text/html": [
       "<div>\n",
       "<style scoped>\n",
       "    .dataframe tbody tr th:only-of-type {\n",
       "        vertical-align: middle;\n",
       "    }\n",
       "\n",
       "    .dataframe tbody tr th {\n",
       "        vertical-align: top;\n",
       "    }\n",
       "\n",
       "    .dataframe thead th {\n",
       "        text-align: right;\n",
       "    }\n",
       "</style>\n",
       "<table border=\"1\" class=\"dataframe\">\n",
       "  <thead>\n",
       "    <tr style=\"text-align: right;\">\n",
       "      <th></th>\n",
       "      <th>PatientID</th>\n",
       "      <th>PatientAge</th>\n",
       "      <th>PatientSex</th>\n",
       "      <th>ImagingModality</th>\n",
       "      <th>FindingType</th>\n",
       "      <th>Rows</th>\n",
       "      <th>Columns</th>\n",
       "    </tr>\n",
       "  </thead>\n",
       "  <tbody>\n",
       "    <tr>\n",
       "      <th>0</th>\n",
       "      <td>1688</td>\n",
       "      <td>59</td>\n",
       "      <td>F</td>\n",
       "      <td>DX</td>\n",
       "      <td>Infiltration|Nodule</td>\n",
       "      <td>1024</td>\n",
       "      <td>1024</td>\n",
       "    </tr>\n",
       "    <tr>\n",
       "      <th>1</th>\n",
       "      <td>5066</td>\n",
       "      <td>52</td>\n",
       "      <td>M</td>\n",
       "      <td>DX</td>\n",
       "      <td>Cardiomegaly|Effusion|Infiltration</td>\n",
       "      <td>1024</td>\n",
       "      <td>1024</td>\n",
       "    </tr>\n",
       "    <tr>\n",
       "      <th>2</th>\n",
       "      <td>23075</td>\n",
       "      <td>31</td>\n",
       "      <td>M</td>\n",
       "      <td>DX</td>\n",
       "      <td>Mass</td>\n",
       "      <td>1024</td>\n",
       "      <td>1024</td>\n",
       "    </tr>\n",
       "    <tr>\n",
       "      <th>3</th>\n",
       "      <td>13659</td>\n",
       "      <td>62</td>\n",
       "      <td>F</td>\n",
       "      <td>DX</td>\n",
       "      <td>Consolidation|Mass|Pneumonia|Pneumothorax</td>\n",
       "      <td>1024</td>\n",
       "      <td>1024</td>\n",
       "    </tr>\n",
       "    <tr>\n",
       "      <th>4</th>\n",
       "      <td>13118</td>\n",
       "      <td>69</td>\n",
       "      <td>M</td>\n",
       "      <td>DX</td>\n",
       "      <td>Atelectasis</td>\n",
       "      <td>1024</td>\n",
       "      <td>1024</td>\n",
       "    </tr>\n",
       "    <tr>\n",
       "      <th>5</th>\n",
       "      <td>10172</td>\n",
       "      <td>59</td>\n",
       "      <td>F</td>\n",
       "      <td>DX</td>\n",
       "      <td>Atelectasis|Effusion</td>\n",
       "      <td>1024</td>\n",
       "      <td>1024</td>\n",
       "    </tr>\n",
       "    <tr>\n",
       "      <th>6</th>\n",
       "      <td>29579</td>\n",
       "      <td>24</td>\n",
       "      <td>F</td>\n",
       "      <td>DX</td>\n",
       "      <td>Effusion|Nodule|Pleural_Thickening|Mass</td>\n",
       "      <td>1024</td>\n",
       "      <td>1024</td>\n",
       "    </tr>\n",
       "  </tbody>\n",
       "</table>\n",
       "</div>"
      ],
      "text/plain": [
       "  PatientID  PatientAge PatientSex ImagingModality  \\\n",
       "0      1688          59          F              DX   \n",
       "1      5066          52          M              DX   \n",
       "2     23075          31          M              DX   \n",
       "3     13659          62          F              DX   \n",
       "4     13118          69          M              DX   \n",
       "5     10172          59          F              DX   \n",
       "6     29579          24          F              DX   \n",
       "\n",
       "                                 FindingType  Rows  Columns  \n",
       "0                        Infiltration|Nodule  1024     1024  \n",
       "1         Cardiomegaly|Effusion|Infiltration  1024     1024  \n",
       "2                                       Mass  1024     1024  \n",
       "3  Consolidation|Mass|Pneumonia|Pneumothorax  1024     1024  \n",
       "4                                Atelectasis  1024     1024  \n",
       "5                       Atelectasis|Effusion  1024     1024  \n",
       "6    Effusion|Nodule|Pleural_Thickening|Mass  1024     1024  "
      ]
     },
     "execution_count": 14,
     "metadata": {},
     "output_type": "execute_result"
    }
   ],
   "source": [
    "data = []\n",
    "for i in mydicoms:\n",
    "    dcm_data = pydicom.dcmread(i)\n",
    "    x = [dcm_data.PatientID, int(dcm_data.PatientAge), dcm_data.PatientSex, dcm_data.Modality, dcm_data.StudyDescription , dcm_data.Rows, dcm_data.Columns]\n",
    "    data.append(x)\n",
    "    \n",
    "\n",
    "\n",
    "pd.DataFrame(data, columns=['PatientID', 'PatientAge', 'PatientSex', 'ImagingModality', 'FindingType', 'Rows', 'Columns'])\n",
    "    \n",
    "\n"
   ]
  },
  {
   "cell_type": "code",
   "execution_count": null,
   "metadata": {},
   "outputs": [],
   "source": []
  }
 ],
 "metadata": {
  "kernelspec": {
   "display_name": "Python 3 (ipykernel)",
   "language": "python",
   "name": "python3"
  },
  "language_info": {
   "codemirror_mode": {
    "name": "ipython",
    "version": 3
   },
   "file_extension": ".py",
   "mimetype": "text/x-python",
   "name": "python",
   "nbconvert_exporter": "python",
   "pygments_lexer": "ipython3",
   "version": "3.9.1"
  }
 },
 "nbformat": 4,
 "nbformat_minor": 4
}
