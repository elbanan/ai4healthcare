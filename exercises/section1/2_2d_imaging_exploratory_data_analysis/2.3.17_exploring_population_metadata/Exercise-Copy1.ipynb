{
 "cells": [
  {
   "cell_type": "code",
   "execution_count": 1,
   "metadata": {},
   "outputs": [],
   "source": [
    "%matplotlib inline\n",
    "\n",
    "import pandas as pd\n",
    "import numpy as np\n",
    "import matplotlib.pyplot as plt\n",
    "import seaborn as sns\n",
    "from random import sample\n",
    "\n",
    "from itertools import chain\n",
    "from random import sample \n",
    "import scipy"
   ]
  },
  {
   "cell_type": "markdown",
   "metadata": {},
   "source": [
    "## First, read in your dataframe"
   ]
  },
  {
   "cell_type": "code",
   "execution_count": 2,
   "metadata": {},
   "outputs": [],
   "source": [
    "data = pd.read_csv('findings_data.csv')"
   ]
  },
  {
   "cell_type": "code",
   "execution_count": 3,
   "metadata": {},
   "outputs": [
    {
     "data": {
      "text/html": [
       "<div>\n",
       "<style scoped>\n",
       "    .dataframe tbody tr th:only-of-type {\n",
       "        vertical-align: middle;\n",
       "    }\n",
       "\n",
       "    .dataframe tbody tr th {\n",
       "        vertical-align: top;\n",
       "    }\n",
       "\n",
       "    .dataframe thead th {\n",
       "        text-align: right;\n",
       "    }\n",
       "</style>\n",
       "<table border=\"1\" class=\"dataframe\">\n",
       "  <thead>\n",
       "    <tr style=\"text-align: right;\">\n",
       "      <th></th>\n",
       "      <th>Unnamed: 0</th>\n",
       "      <th>Patient ID</th>\n",
       "      <th>Finding Labels</th>\n",
       "      <th>Patient Age</th>\n",
       "      <th>Patient Gender</th>\n",
       "      <th>Mass_Size</th>\n",
       "    </tr>\n",
       "  </thead>\n",
       "  <tbody>\n",
       "    <tr>\n",
       "      <th>0</th>\n",
       "      <td>1</td>\n",
       "      <td>1</td>\n",
       "      <td>Cardiomegaly|Emphysema</td>\n",
       "      <td>57</td>\n",
       "      <td>M</td>\n",
       "      <td>NaN</td>\n",
       "    </tr>\n",
       "    <tr>\n",
       "      <th>1</th>\n",
       "      <td>2</td>\n",
       "      <td>2</td>\n",
       "      <td>No Finding</td>\n",
       "      <td>77</td>\n",
       "      <td>M</td>\n",
       "      <td>NaN</td>\n",
       "    </tr>\n",
       "    <tr>\n",
       "      <th>2</th>\n",
       "      <td>3</td>\n",
       "      <td>3</td>\n",
       "      <td>Atelectasis</td>\n",
       "      <td>79</td>\n",
       "      <td>M</td>\n",
       "      <td>NaN</td>\n",
       "    </tr>\n",
       "    <tr>\n",
       "      <th>3</th>\n",
       "      <td>4</td>\n",
       "      <td>4</td>\n",
       "      <td>Cardiomegaly|Edema|Effusion</td>\n",
       "      <td>55</td>\n",
       "      <td>F</td>\n",
       "      <td>NaN</td>\n",
       "    </tr>\n",
       "    <tr>\n",
       "      <th>4</th>\n",
       "      <td>5</td>\n",
       "      <td>5</td>\n",
       "      <td>Consolidation|Mass</td>\n",
       "      <td>68</td>\n",
       "      <td>M</td>\n",
       "      <td>2516.0</td>\n",
       "    </tr>\n",
       "  </tbody>\n",
       "</table>\n",
       "</div>"
      ],
      "text/plain": [
       "   Unnamed: 0  Patient ID               Finding Labels  Patient Age  \\\n",
       "0           1           1       Cardiomegaly|Emphysema           57   \n",
       "1           2           2                   No Finding           77   \n",
       "2           3           3                  Atelectasis           79   \n",
       "3           4           4  Cardiomegaly|Edema|Effusion           55   \n",
       "4           5           5           Consolidation|Mass           68   \n",
       "\n",
       "  Patient Gender  Mass_Size  \n",
       "0              M        NaN  \n",
       "1              M        NaN  \n",
       "2              M        NaN  \n",
       "3              F        NaN  \n",
       "4              M     2516.0  "
      ]
     },
     "execution_count": 3,
     "metadata": {},
     "output_type": "execute_result"
    }
   ],
   "source": [
    "data.head()"
   ]
  },
  {
   "cell_type": "markdown",
   "metadata": {},
   "source": [
    "### To understand distributions of variables as they relate to diseases, let's try splitting up the 'Finding Labels' column into one additional column per disease (e.g. one for 'Cardiomegaly', one for 'Emphysema', etc.) and put a binary flag in that column to indicate the presence of the disease"
   ]
  },
  {
   "cell_type": "code",
   "execution_count": 4,
   "metadata": {},
   "outputs": [
    {
     "data": {
      "text/plain": [
       "array(['Atelectasis', 'Cardiomegaly', 'Consolidation', 'Edema',\n",
       "       'Effusion', 'Emphysema', 'Fibrosis', 'Infiltration', 'Mass',\n",
       "       'No Finding', 'Nodule', 'Pleural_Thickening', 'Pneumonia',\n",
       "       'Pneumothorax'], dtype='<U18')"
      ]
     },
     "execution_count": 4,
     "metadata": {},
     "output_type": "execute_result"
    }
   ],
   "source": [
    "np.unique(list(chain(*data['Finding Labels'].apply(lambda x: x.split('|')).tolist())))"
   ]
  },
  {
   "cell_type": "code",
   "execution_count": 5,
   "metadata": {},
   "outputs": [
    {
     "name": "stdout",
     "output_type": "stream",
     "text": [
      "All Labels (14): ['Atelectasis', 'Cardiomegaly', 'Consolidation', 'Edema', 'Effusion', 'Emphysema', 'Fibrosis', 'Infiltration', 'Mass', 'No Finding', 'Nodule', 'Pleural_Thickening', 'Pneumonia', 'Pneumothorax']\n"
     ]
    },
    {
     "data": {
      "text/html": [
       "<div>\n",
       "<style scoped>\n",
       "    .dataframe tbody tr th:only-of-type {\n",
       "        vertical-align: middle;\n",
       "    }\n",
       "\n",
       "    .dataframe tbody tr th {\n",
       "        vertical-align: top;\n",
       "    }\n",
       "\n",
       "    .dataframe thead th {\n",
       "        text-align: right;\n",
       "    }\n",
       "</style>\n",
       "<table border=\"1\" class=\"dataframe\">\n",
       "  <thead>\n",
       "    <tr style=\"text-align: right;\">\n",
       "      <th></th>\n",
       "      <th>Unnamed: 0</th>\n",
       "      <th>Patient ID</th>\n",
       "      <th>Finding Labels</th>\n",
       "      <th>Patient Age</th>\n",
       "      <th>Patient Gender</th>\n",
       "      <th>Mass_Size</th>\n",
       "      <th>Atelectasis</th>\n",
       "      <th>Cardiomegaly</th>\n",
       "      <th>Consolidation</th>\n",
       "      <th>Edema</th>\n",
       "      <th>Effusion</th>\n",
       "      <th>Emphysema</th>\n",
       "      <th>Fibrosis</th>\n",
       "      <th>Infiltration</th>\n",
       "      <th>Mass</th>\n",
       "      <th>No Finding</th>\n",
       "      <th>Nodule</th>\n",
       "      <th>Pleural_Thickening</th>\n",
       "      <th>Pneumonia</th>\n",
       "      <th>Pneumothorax</th>\n",
       "    </tr>\n",
       "  </thead>\n",
       "  <tbody>\n",
       "    <tr>\n",
       "      <th>519</th>\n",
       "      <td>520</td>\n",
       "      <td>520</td>\n",
       "      <td>No Finding</td>\n",
       "      <td>39</td>\n",
       "      <td>F</td>\n",
       "      <td>NaN</td>\n",
       "      <td>0.0</td>\n",
       "      <td>0.0</td>\n",
       "      <td>0.0</td>\n",
       "      <td>0.0</td>\n",
       "      <td>0.0</td>\n",
       "      <td>0.0</td>\n",
       "      <td>0.0</td>\n",
       "      <td>0.0</td>\n",
       "      <td>0.0</td>\n",
       "      <td>1.0</td>\n",
       "      <td>0.0</td>\n",
       "      <td>0.0</td>\n",
       "      <td>0.0</td>\n",
       "      <td>0.0</td>\n",
       "    </tr>\n",
       "    <tr>\n",
       "      <th>398</th>\n",
       "      <td>399</td>\n",
       "      <td>399</td>\n",
       "      <td>No Finding</td>\n",
       "      <td>57</td>\n",
       "      <td>M</td>\n",
       "      <td>NaN</td>\n",
       "      <td>0.0</td>\n",
       "      <td>0.0</td>\n",
       "      <td>0.0</td>\n",
       "      <td>0.0</td>\n",
       "      <td>0.0</td>\n",
       "      <td>0.0</td>\n",
       "      <td>0.0</td>\n",
       "      <td>0.0</td>\n",
       "      <td>0.0</td>\n",
       "      <td>1.0</td>\n",
       "      <td>0.0</td>\n",
       "      <td>0.0</td>\n",
       "      <td>0.0</td>\n",
       "      <td>0.0</td>\n",
       "    </tr>\n",
       "    <tr>\n",
       "      <th>755</th>\n",
       "      <td>756</td>\n",
       "      <td>756</td>\n",
       "      <td>Cardiomegaly|Edema</td>\n",
       "      <td>58</td>\n",
       "      <td>F</td>\n",
       "      <td>NaN</td>\n",
       "      <td>0.0</td>\n",
       "      <td>1.0</td>\n",
       "      <td>0.0</td>\n",
       "      <td>1.0</td>\n",
       "      <td>0.0</td>\n",
       "      <td>0.0</td>\n",
       "      <td>0.0</td>\n",
       "      <td>0.0</td>\n",
       "      <td>0.0</td>\n",
       "      <td>0.0</td>\n",
       "      <td>0.0</td>\n",
       "      <td>0.0</td>\n",
       "      <td>0.0</td>\n",
       "      <td>0.0</td>\n",
       "    </tr>\n",
       "  </tbody>\n",
       "</table>\n",
       "</div>"
      ],
      "text/plain": [
       "     Unnamed: 0  Patient ID      Finding Labels  Patient Age Patient Gender  \\\n",
       "519         520         520          No Finding           39              F   \n",
       "398         399         399          No Finding           57              M   \n",
       "755         756         756  Cardiomegaly|Edema           58              F   \n",
       "\n",
       "     Mass_Size  Atelectasis  Cardiomegaly  Consolidation  Edema  Effusion  \\\n",
       "519        NaN          0.0           0.0            0.0    0.0       0.0   \n",
       "398        NaN          0.0           0.0            0.0    0.0       0.0   \n",
       "755        NaN          0.0           1.0            0.0    1.0       0.0   \n",
       "\n",
       "     Emphysema  Fibrosis  Infiltration  Mass  No Finding  Nodule  \\\n",
       "519        0.0       0.0           0.0   0.0         1.0     0.0   \n",
       "398        0.0       0.0           0.0   0.0         1.0     0.0   \n",
       "755        0.0       0.0           0.0   0.0         0.0     0.0   \n",
       "\n",
       "     Pleural_Thickening  Pneumonia  Pneumothorax  \n",
       "519                 0.0        0.0           0.0  \n",
       "398                 0.0        0.0           0.0  \n",
       "755                 0.0        0.0           0.0  "
      ]
     },
     "execution_count": 5,
     "metadata": {},
     "output_type": "execute_result"
    }
   ],
   "source": [
    "all_labels = np.unique(list(chain(*data['Finding Labels'].apply(lambda x: x.split('|')).tolist())))\n",
    "all_labels = [x for x in all_labels if len(x)>0]\n",
    "print('All Labels ({}): {}'.format(len(all_labels), all_labels))\n",
    "for c_label in all_labels:\n",
    "    if len(c_label)>1: # leave out empty labels\n",
    "        data[c_label] = data['Finding Labels'].map(lambda finding: 1.0 if c_label in finding else 0)\n",
    "data.sample(3)"
   ]
  },
  {
   "cell_type": "code",
   "execution_count": null,
   "metadata": {},
   "outputs": [],
   "source": [
    "## Now write your code here to visualize some of the distributions specified in the instructions"
   ]
  },
  {
   "cell_type": "code",
   "execution_count": 6,
   "metadata": {},
   "outputs": [
    {
     "data": {
      "image/png": "[encoded data removed]",
      "text/plain": [
       "<Figure size 432x288 with 1 Axes>"
      ]
     },
     "metadata": {
      "needs_background": "light"
     },
     "output_type": "display_data"
    }
   ],
   "source": [
    "plt.hist(data['Patient Age'], bins=20);"
   ]
  },
  {
   "cell_type": "code",
   "execution_count": 7,
   "metadata": {},
   "outputs": [
    {
     "data": {
      "image/png": "[encoded data removed]",
      "text/plain": [
       "<Figure size 432x288 with 1 Axes>"
      ]
     },
     "metadata": {
      "needs_background": "light"
     },
     "output_type": "display_data"
    }
   ],
   "source": [
    "plt.hist(data['Patient Gender']);"
   ]
  },
  {
   "cell_type": "markdown",
   "metadata": {},
   "source": [
    "### Finally, look at if and how age & gender relate to mass size in individuals who have a mass as a finding:"
   ]
  },
  {
   "cell_type": "code",
   "execution_count": 8,
   "metadata": {},
   "outputs": [
    {
     "data": {
      "text/plain": [
       "<matplotlib.collections.PathCollection at 0x120f4e640>"
      ]
     },
     "execution_count": 8,
     "metadata": {},
     "output_type": "execute_result"
    },
    {
     "data": {
      "image/png": "[encoded data removed]",
      "text/plain": [
       "<Figure size 432x288 with 1 Axes>"
      ]
     },
     "metadata": {
      "needs_background": "light"
     },
     "output_type": "display_data"
    }
   ],
   "source": [
    "plt.scatter(data['Patient Age'],data['Mass_Size'])"
   ]
  },
  {
   "cell_type": "code",
   "execution_count": 9,
   "metadata": {},
   "outputs": [
    {
     "data": {
      "text/plain": [
       "(0.7275663300043572, 7.354553889321959e-07)"
      ]
     },
     "execution_count": 9,
     "metadata": {},
     "output_type": "execute_result"
    }
   ],
   "source": [
    "## Use the following to see if there are significant correlations between the two: \n",
    "data = data.dropna()\n",
    "scipy.stats.pearsonr(data['Patient Age'],data['Mass_Size'])"
   ]
  },
  {
   "cell_type": "code",
   "execution_count": 10,
   "metadata": {},
   "outputs": [
    {
     "data": {
      "text/plain": [
       "Ttest_indResult(statistic=0.6188395721019645, pvalue=0.5402707532656863)"
      ]
     },
     "execution_count": 10,
     "metadata": {},
     "output_type": "execute_result"
    }
   ],
   "source": [
    "mass_sizes_male = data[data['Patient Gender']=='M']['Mass_Size']\n",
    "mass_sizes_female = data[data['Patient Gender']=='F']['Mass_Size']\n",
    "scipy.stats.ttest_ind(mass_sizes_male, mass_sizes_female)"
   ]
  },
  {
   "cell_type": "code",
   "execution_count": 30,
   "metadata": {},
   "outputs": [
    {
     "data": {
      "text/html": [
       "<style type=\"text/css\">\n",
       "#T_735b4_row0_col0, #T_735b4_row0_col8, #T_735b4_row2_col2, #T_735b4_row2_col8, #T_735b4_row4_col4, #T_735b4_row4_col8, #T_735b4_row7_col7, #T_735b4_row7_col8, #T_735b4_row8_col0, #T_735b4_row8_col2, #T_735b4_row8_col4, #T_735b4_row8_col7, #T_735b4_row8_col8, #T_735b4_row8_col10, #T_735b4_row8_col11, #T_735b4_row10_col8, #T_735b4_row10_col10, #T_735b4_row11_col8, #T_735b4_row11_col11 {\n",
       "  color: red;\n",
       "}\n",
       "#T_735b4_row0_col1, #T_735b4_row0_col2, #T_735b4_row0_col3, #T_735b4_row0_col5, #T_735b4_row0_col6, #T_735b4_row0_col9, #T_735b4_row0_col10, #T_735b4_row0_col12, #T_735b4_row0_col13, #T_735b4_row1_col0, #T_735b4_row1_col1, #T_735b4_row1_col2, #T_735b4_row1_col3, #T_735b4_row1_col4, #T_735b4_row1_col5, #T_735b4_row1_col6, #T_735b4_row1_col7, #T_735b4_row1_col8, #T_735b4_row1_col9, #T_735b4_row1_col10, #T_735b4_row1_col11, #T_735b4_row1_col12, #T_735b4_row1_col13, #T_735b4_row2_col0, #T_735b4_row2_col1, #T_735b4_row2_col3, #T_735b4_row2_col5, #T_735b4_row2_col6, #T_735b4_row2_col7, #T_735b4_row2_col9, #T_735b4_row2_col10, #T_735b4_row2_col11, #T_735b4_row2_col12, #T_735b4_row2_col13, #T_735b4_row3_col0, #T_735b4_row3_col1, #T_735b4_row3_col2, #T_735b4_row3_col3, #T_735b4_row3_col4, #T_735b4_row3_col5, #T_735b4_row3_col6, #T_735b4_row3_col7, #T_735b4_row3_col8, #T_735b4_row3_col9, #T_735b4_row3_col10, #T_735b4_row3_col11, #T_735b4_row3_col12, #T_735b4_row3_col13, #T_735b4_row4_col1, #T_735b4_row4_col3, #T_735b4_row4_col5, #T_735b4_row4_col6, #T_735b4_row4_col9, #T_735b4_row4_col10, #T_735b4_row4_col12, #T_735b4_row4_col13, #T_735b4_row5_col0, #T_735b4_row5_col1, #T_735b4_row5_col2, #T_735b4_row5_col3, #T_735b4_row5_col4, #T_735b4_row5_col6, #T_735b4_row5_col7, #T_735b4_row5_col9, #T_735b4_row5_col10, #T_735b4_row5_col11, #T_735b4_row5_col12, #T_735b4_row5_col13, #T_735b4_row6_col0, #T_735b4_row6_col1, #T_735b4_row6_col2, #T_735b4_row6_col3, #T_735b4_row6_col4, #T_735b4_row6_col5, #T_735b4_row6_col6, #T_735b4_row6_col7, #T_735b4_row6_col8, #T_735b4_row6_col9, #T_735b4_row6_col10, #T_735b4_row6_col11, #T_735b4_row6_col12, #T_735b4_row6_col13, #T_735b4_row7_col1, #T_735b4_row7_col2, #T_735b4_row7_col3, #T_735b4_row7_col5, #T_735b4_row7_col6, #T_735b4_row7_col9, #T_735b4_row7_col10, #T_735b4_row7_col12, #T_735b4_row7_col13, #T_735b4_row8_col1, #T_735b4_row8_col3, #T_735b4_row8_col6, #T_735b4_row8_col9, #T_735b4_row9_col0, #T_735b4_row9_col1, #T_735b4_row9_col2, #T_735b4_row9_col3, #T_735b4_row9_col4, #T_735b4_row9_col5, #T_735b4_row9_col6, #T_735b4_row9_col7, #T_735b4_row9_col8, #T_735b4_row9_col9, #T_735b4_row9_col10, #T_735b4_row9_col11, #T_735b4_row9_col12, #T_735b4_row9_col13, #T_735b4_row10_col0, #T_735b4_row10_col1, #T_735b4_row10_col2, #T_735b4_row10_col3, #T_735b4_row10_col4, #T_735b4_row10_col5, #T_735b4_row10_col6, #T_735b4_row10_col7, #T_735b4_row10_col9, #T_735b4_row10_col11, #T_735b4_row10_col13, #T_735b4_row11_col1, #T_735b4_row11_col2, #T_735b4_row11_col3, #T_735b4_row11_col5, #T_735b4_row11_col6, #T_735b4_row11_col9, #T_735b4_row11_col10, #T_735b4_row11_col12, #T_735b4_row11_col13, #T_735b4_row12_col0, #T_735b4_row12_col1, #T_735b4_row12_col2, #T_735b4_row12_col3, #T_735b4_row12_col4, #T_735b4_row12_col5, #T_735b4_row12_col6, #T_735b4_row12_col7, #T_735b4_row12_col9, #T_735b4_row12_col11, #T_735b4_row12_col13, #T_735b4_row13_col0, #T_735b4_row13_col1, #T_735b4_row13_col2, #T_735b4_row13_col3, #T_735b4_row13_col4, #T_735b4_row13_col5, #T_735b4_row13_col6, #T_735b4_row13_col7, #T_735b4_row13_col9, #T_735b4_row13_col10, #T_735b4_row13_col11, #T_735b4_row13_col12 {\n",
       "  color: green;\n",
       "}\n",
       "#T_735b4_row0_col4, #T_735b4_row0_col7, #T_735b4_row0_col11, #T_735b4_row2_col4, #T_735b4_row4_col0, #T_735b4_row4_col2, #T_735b4_row4_col7, #T_735b4_row4_col11, #T_735b4_row5_col5, #T_735b4_row5_col8, #T_735b4_row7_col0, #T_735b4_row7_col4, #T_735b4_row7_col11, #T_735b4_row8_col5, #T_735b4_row8_col12, #T_735b4_row8_col13, #T_735b4_row10_col12, #T_735b4_row11_col0, #T_735b4_row11_col4, #T_735b4_row11_col7, #T_735b4_row12_col8, #T_735b4_row12_col10, #T_735b4_row12_col12, #T_735b4_row13_col8, #T_735b4_row13_col13 {\n",
       "  color: yellow;\n",
       "}\n",
       "</style>\n",
       "<table id=\"T_735b4_\">\n",
       "  <thead>\n",
       "    <tr>\n",
       "      <th class=\"blank level0\" >&nbsp;</th>\n",
       "      <th class=\"col_heading level0 col0\" >Atelectasis</th>\n",
       "      <th class=\"col_heading level0 col1\" >Cardiomegaly</th>\n",
       "      <th class=\"col_heading level0 col2\" >Consolidation</th>\n",
       "      <th class=\"col_heading level0 col3\" >Edema</th>\n",
       "      <th class=\"col_heading level0 col4\" >Effusion</th>\n",
       "      <th class=\"col_heading level0 col5\" >Emphysema</th>\n",
       "      <th class=\"col_heading level0 col6\" >Fibrosis</th>\n",
       "      <th class=\"col_heading level0 col7\" >Infiltration</th>\n",
       "      <th class=\"col_heading level0 col8\" >Mass</th>\n",
       "      <th class=\"col_heading level0 col9\" >No Finding</th>\n",
       "      <th class=\"col_heading level0 col10\" >Nodule</th>\n",
       "      <th class=\"col_heading level0 col11\" >Pleural_Thickening</th>\n",
       "      <th class=\"col_heading level0 col12\" >Pneumonia</th>\n",
       "      <th class=\"col_heading level0 col13\" >Pneumothorax</th>\n",
       "    </tr>\n",
       "  </thead>\n",
       "  <tbody>\n",
       "    <tr>\n",
       "      <th id=\"T_735b4_level0_row0\" class=\"row_heading level0 row0\" >Atelectasis</th>\n",
       "      <td id=\"T_735b4_row0_col0\" class=\"data row0 col0\" >3.000000</td>\n",
       "      <td id=\"T_735b4_row0_col1\" class=\"data row0 col1\" >0.000000</td>\n",
       "      <td id=\"T_735b4_row0_col2\" class=\"data row0 col2\" >0.000000</td>\n",
       "      <td id=\"T_735b4_row0_col3\" class=\"data row0 col3\" >0.000000</td>\n",
       "      <td id=\"T_735b4_row0_col4\" class=\"data row0 col4\" >1.000000</td>\n",
       "      <td id=\"T_735b4_row0_col5\" class=\"data row0 col5\" >0.000000</td>\n",
       "      <td id=\"T_735b4_row0_col6\" class=\"data row0 col6\" >0.000000</td>\n",
       "      <td id=\"T_735b4_row0_col7\" class=\"data row0 col7\" >2.000000</td>\n",
       "      <td id=\"T_735b4_row0_col8\" class=\"data row0 col8\" >3.000000</td>\n",
       "      <td id=\"T_735b4_row0_col9\" class=\"data row0 col9\" >0.000000</td>\n",
       "      <td id=\"T_735b4_row0_col10\" class=\"data row0 col10\" >0.000000</td>\n",
       "      <td id=\"T_735b4_row0_col11\" class=\"data row0 col11\" >1.000000</td>\n",
       "      <td id=\"T_735b4_row0_col12\" class=\"data row0 col12\" >0.000000</td>\n",
       "      <td id=\"T_735b4_row0_col13\" class=\"data row0 col13\" >0.000000</td>\n",
       "    </tr>\n",
       "    <tr>\n",
       "      <th id=\"T_735b4_level0_row1\" class=\"row_heading level0 row1\" >Cardiomegaly</th>\n",
       "      <td id=\"T_735b4_row1_col0\" class=\"data row1 col0\" >0.000000</td>\n",
       "      <td id=\"T_735b4_row1_col1\" class=\"data row1 col1\" >0.000000</td>\n",
       "      <td id=\"T_735b4_row1_col2\" class=\"data row1 col2\" >0.000000</td>\n",
       "      <td id=\"T_735b4_row1_col3\" class=\"data row1 col3\" >0.000000</td>\n",
       "      <td id=\"T_735b4_row1_col4\" class=\"data row1 col4\" >0.000000</td>\n",
       "      <td id=\"T_735b4_row1_col5\" class=\"data row1 col5\" >0.000000</td>\n",
       "      <td id=\"T_735b4_row1_col6\" class=\"data row1 col6\" >0.000000</td>\n",
       "      <td id=\"T_735b4_row1_col7\" class=\"data row1 col7\" >0.000000</td>\n",
       "      <td id=\"T_735b4_row1_col8\" class=\"data row1 col8\" >0.000000</td>\n",
       "      <td id=\"T_735b4_row1_col9\" class=\"data row1 col9\" >0.000000</td>\n",
       "      <td id=\"T_735b4_row1_col10\" class=\"data row1 col10\" >0.000000</td>\n",
       "      <td id=\"T_735b4_row1_col11\" class=\"data row1 col11\" >0.000000</td>\n",
       "      <td id=\"T_735b4_row1_col12\" class=\"data row1 col12\" >0.000000</td>\n",
       "      <td id=\"T_735b4_row1_col13\" class=\"data row1 col13\" >0.000000</td>\n",
       "    </tr>\n",
       "    <tr>\n",
       "      <th id=\"T_735b4_level0_row2\" class=\"row_heading level0 row2\" >Consolidation</th>\n",
       "      <td id=\"T_735b4_row2_col0\" class=\"data row2 col0\" >0.000000</td>\n",
       "      <td id=\"T_735b4_row2_col1\" class=\"data row2 col1\" >0.000000</td>\n",
       "      <td id=\"T_735b4_row2_col2\" class=\"data row2 col2\" >4.000000</td>\n",
       "      <td id=\"T_735b4_row2_col3\" class=\"data row2 col3\" >0.000000</td>\n",
       "      <td id=\"T_735b4_row2_col4\" class=\"data row2 col4\" >1.000000</td>\n",
       "      <td id=\"T_735b4_row2_col5\" class=\"data row2 col5\" >0.000000</td>\n",
       "      <td id=\"T_735b4_row2_col6\" class=\"data row2 col6\" >0.000000</td>\n",
       "      <td id=\"T_735b4_row2_col7\" class=\"data row2 col7\" >0.000000</td>\n",
       "      <td id=\"T_735b4_row2_col8\" class=\"data row2 col8\" >4.000000</td>\n",
       "      <td id=\"T_735b4_row2_col9\" class=\"data row2 col9\" >0.000000</td>\n",
       "      <td id=\"T_735b4_row2_col10\" class=\"data row2 col10\" >0.000000</td>\n",
       "      <td id=\"T_735b4_row2_col11\" class=\"data row2 col11\" >0.000000</td>\n",
       "      <td id=\"T_735b4_row2_col12\" class=\"data row2 col12\" >0.000000</td>\n",
       "      <td id=\"T_735b4_row2_col13\" class=\"data row2 col13\" >0.000000</td>\n",
       "    </tr>\n",
       "    <tr>\n",
       "      <th id=\"T_735b4_level0_row3\" class=\"row_heading level0 row3\" >Edema</th>\n",
       "      <td id=\"T_735b4_row3_col0\" class=\"data row3 col0\" >0.000000</td>\n",
       "      <td id=\"T_735b4_row3_col1\" class=\"data row3 col1\" >0.000000</td>\n",
       "      <td id=\"T_735b4_row3_col2\" class=\"data row3 col2\" >0.000000</td>\n",
       "      <td id=\"T_735b4_row3_col3\" class=\"data row3 col3\" >0.000000</td>\n",
       "      <td id=\"T_735b4_row3_col4\" class=\"data row3 col4\" >0.000000</td>\n",
       "      <td id=\"T_735b4_row3_col5\" class=\"data row3 col5\" >0.000000</td>\n",
       "      <td id=\"T_735b4_row3_col6\" class=\"data row3 col6\" >0.000000</td>\n",
       "      <td id=\"T_735b4_row3_col7\" class=\"data row3 col7\" >0.000000</td>\n",
       "      <td id=\"T_735b4_row3_col8\" class=\"data row3 col8\" >0.000000</td>\n",
       "      <td id=\"T_735b4_row3_col9\" class=\"data row3 col9\" >0.000000</td>\n",
       "      <td id=\"T_735b4_row3_col10\" class=\"data row3 col10\" >0.000000</td>\n",
       "      <td id=\"T_735b4_row3_col11\" class=\"data row3 col11\" >0.000000</td>\n",
       "      <td id=\"T_735b4_row3_col12\" class=\"data row3 col12\" >0.000000</td>\n",
       "      <td id=\"T_735b4_row3_col13\" class=\"data row3 col13\" >0.000000</td>\n",
       "    </tr>\n",
       "    <tr>\n",
       "      <th id=\"T_735b4_level0_row4\" class=\"row_heading level0 row4\" >Effusion</th>\n",
       "      <td id=\"T_735b4_row4_col0\" class=\"data row4 col0\" >1.000000</td>\n",
       "      <td id=\"T_735b4_row4_col1\" class=\"data row4 col1\" >0.000000</td>\n",
       "      <td id=\"T_735b4_row4_col2\" class=\"data row4 col2\" >1.000000</td>\n",
       "      <td id=\"T_735b4_row4_col3\" class=\"data row4 col3\" >0.000000</td>\n",
       "      <td id=\"T_735b4_row4_col4\" class=\"data row4 col4\" >4.000000</td>\n",
       "      <td id=\"T_735b4_row4_col5\" class=\"data row4 col5\" >0.000000</td>\n",
       "      <td id=\"T_735b4_row4_col6\" class=\"data row4 col6\" >0.000000</td>\n",
       "      <td id=\"T_735b4_row4_col7\" class=\"data row4 col7\" >2.000000</td>\n",
       "      <td id=\"T_735b4_row4_col8\" class=\"data row4 col8\" >4.000000</td>\n",
       "      <td id=\"T_735b4_row4_col9\" class=\"data row4 col9\" >0.000000</td>\n",
       "      <td id=\"T_735b4_row4_col10\" class=\"data row4 col10\" >0.000000</td>\n",
       "      <td id=\"T_735b4_row4_col11\" class=\"data row4 col11\" >1.000000</td>\n",
       "      <td id=\"T_735b4_row4_col12\" class=\"data row4 col12\" >0.000000</td>\n",
       "      <td id=\"T_735b4_row4_col13\" class=\"data row4 col13\" >0.000000</td>\n",
       "    </tr>\n",
       "    <tr>\n",
       "      <th id=\"T_735b4_level0_row5\" class=\"row_heading level0 row5\" >Emphysema</th>\n",
       "      <td id=\"T_735b4_row5_col0\" class=\"data row5 col0\" >0.000000</td>\n",
       "      <td id=\"T_735b4_row5_col1\" class=\"data row5 col1\" >0.000000</td>\n",
       "      <td id=\"T_735b4_row5_col2\" class=\"data row5 col2\" >0.000000</td>\n",
       "      <td id=\"T_735b4_row5_col3\" class=\"data row5 col3\" >0.000000</td>\n",
       "      <td id=\"T_735b4_row5_col4\" class=\"data row5 col4\" >0.000000</td>\n",
       "      <td id=\"T_735b4_row5_col5\" class=\"data row5 col5\" >2.000000</td>\n",
       "      <td id=\"T_735b4_row5_col6\" class=\"data row5 col6\" >0.000000</td>\n",
       "      <td id=\"T_735b4_row5_col7\" class=\"data row5 col7\" >0.000000</td>\n",
       "      <td id=\"T_735b4_row5_col8\" class=\"data row5 col8\" >2.000000</td>\n",
       "      <td id=\"T_735b4_row5_col9\" class=\"data row5 col9\" >0.000000</td>\n",
       "      <td id=\"T_735b4_row5_col10\" class=\"data row5 col10\" >0.000000</td>\n",
       "      <td id=\"T_735b4_row5_col11\" class=\"data row5 col11\" >0.000000</td>\n",
       "      <td id=\"T_735b4_row5_col12\" class=\"data row5 col12\" >0.000000</td>\n",
       "      <td id=\"T_735b4_row5_col13\" class=\"data row5 col13\" >0.000000</td>\n",
       "    </tr>\n",
       "    <tr>\n",
       "      <th id=\"T_735b4_level0_row6\" class=\"row_heading level0 row6\" >Fibrosis</th>\n",
       "      <td id=\"T_735b4_row6_col0\" class=\"data row6 col0\" >0.000000</td>\n",
       "      <td id=\"T_735b4_row6_col1\" class=\"data row6 col1\" >0.000000</td>\n",
       "      <td id=\"T_735b4_row6_col2\" class=\"data row6 col2\" >0.000000</td>\n",
       "      <td id=\"T_735b4_row6_col3\" class=\"data row6 col3\" >0.000000</td>\n",
       "      <td id=\"T_735b4_row6_col4\" class=\"data row6 col4\" >0.000000</td>\n",
       "      <td id=\"T_735b4_row6_col5\" class=\"data row6 col5\" >0.000000</td>\n",
       "      <td id=\"T_735b4_row6_col6\" class=\"data row6 col6\" >0.000000</td>\n",
       "      <td id=\"T_735b4_row6_col7\" class=\"data row6 col7\" >0.000000</td>\n",
       "      <td id=\"T_735b4_row6_col8\" class=\"data row6 col8\" >0.000000</td>\n",
       "      <td id=\"T_735b4_row6_col9\" class=\"data row6 col9\" >0.000000</td>\n",
       "      <td id=\"T_735b4_row6_col10\" class=\"data row6 col10\" >0.000000</td>\n",
       "      <td id=\"T_735b4_row6_col11\" class=\"data row6 col11\" >0.000000</td>\n",
       "      <td id=\"T_735b4_row6_col12\" class=\"data row6 col12\" >0.000000</td>\n",
       "      <td id=\"T_735b4_row6_col13\" class=\"data row6 col13\" >0.000000</td>\n",
       "    </tr>\n",
       "    <tr>\n",
       "      <th id=\"T_735b4_level0_row7\" class=\"row_heading level0 row7\" >Infiltration</th>\n",
       "      <td id=\"T_735b4_row7_col0\" class=\"data row7 col0\" >2.000000</td>\n",
       "      <td id=\"T_735b4_row7_col1\" class=\"data row7 col1\" >0.000000</td>\n",
       "      <td id=\"T_735b4_row7_col2\" class=\"data row7 col2\" >0.000000</td>\n",
       "      <td id=\"T_735b4_row7_col3\" class=\"data row7 col3\" >0.000000</td>\n",
       "      <td id=\"T_735b4_row7_col4\" class=\"data row7 col4\" >2.000000</td>\n",
       "      <td id=\"T_735b4_row7_col5\" class=\"data row7 col5\" >0.000000</td>\n",
       "      <td id=\"T_735b4_row7_col6\" class=\"data row7 col6\" >0.000000</td>\n",
       "      <td id=\"T_735b4_row7_col7\" class=\"data row7 col7\" >4.000000</td>\n",
       "      <td id=\"T_735b4_row7_col8\" class=\"data row7 col8\" >4.000000</td>\n",
       "      <td id=\"T_735b4_row7_col9\" class=\"data row7 col9\" >0.000000</td>\n",
       "      <td id=\"T_735b4_row7_col10\" class=\"data row7 col10\" >0.000000</td>\n",
       "      <td id=\"T_735b4_row7_col11\" class=\"data row7 col11\" >1.000000</td>\n",
       "      <td id=\"T_735b4_row7_col12\" class=\"data row7 col12\" >0.000000</td>\n",
       "      <td id=\"T_735b4_row7_col13\" class=\"data row7 col13\" >0.000000</td>\n",
       "    </tr>\n",
       "    <tr>\n",
       "      <th id=\"T_735b4_level0_row8\" class=\"row_heading level0 row8\" >Mass</th>\n",
       "      <td id=\"T_735b4_row8_col0\" class=\"data row8 col0\" >3.000000</td>\n",
       "      <td id=\"T_735b4_row8_col1\" class=\"data row8 col1\" >0.000000</td>\n",
       "      <td id=\"T_735b4_row8_col2\" class=\"data row8 col2\" >4.000000</td>\n",
       "      <td id=\"T_735b4_row8_col3\" class=\"data row8 col3\" >0.000000</td>\n",
       "      <td id=\"T_735b4_row8_col4\" class=\"data row8 col4\" >4.000000</td>\n",
       "      <td id=\"T_735b4_row8_col5\" class=\"data row8 col5\" >2.000000</td>\n",
       "      <td id=\"T_735b4_row8_col6\" class=\"data row8 col6\" >0.000000</td>\n",
       "      <td id=\"T_735b4_row8_col7\" class=\"data row8 col7\" >4.000000</td>\n",
       "      <td id=\"T_735b4_row8_col8\" class=\"data row8 col8\" >35.000000</td>\n",
       "      <td id=\"T_735b4_row8_col9\" class=\"data row8 col9\" >0.000000</td>\n",
       "      <td id=\"T_735b4_row8_col10\" class=\"data row8 col10\" >4.000000</td>\n",
       "      <td id=\"T_735b4_row8_col11\" class=\"data row8 col11\" >4.000000</td>\n",
       "      <td id=\"T_735b4_row8_col12\" class=\"data row8 col12\" >1.000000</td>\n",
       "      <td id=\"T_735b4_row8_col13\" class=\"data row8 col13\" >2.000000</td>\n",
       "    </tr>\n",
       "    <tr>\n",
       "      <th id=\"T_735b4_level0_row9\" class=\"row_heading level0 row9\" >No Finding</th>\n",
       "      <td id=\"T_735b4_row9_col0\" class=\"data row9 col0\" >0.000000</td>\n",
       "      <td id=\"T_735b4_row9_col1\" class=\"data row9 col1\" >0.000000</td>\n",
       "      <td id=\"T_735b4_row9_col2\" class=\"data row9 col2\" >0.000000</td>\n",
       "      <td id=\"T_735b4_row9_col3\" class=\"data row9 col3\" >0.000000</td>\n",
       "      <td id=\"T_735b4_row9_col4\" class=\"data row9 col4\" >0.000000</td>\n",
       "      <td id=\"T_735b4_row9_col5\" class=\"data row9 col5\" >0.000000</td>\n",
       "      <td id=\"T_735b4_row9_col6\" class=\"data row9 col6\" >0.000000</td>\n",
       "      <td id=\"T_735b4_row9_col7\" class=\"data row9 col7\" >0.000000</td>\n",
       "      <td id=\"T_735b4_row9_col8\" class=\"data row9 col8\" >0.000000</td>\n",
       "      <td id=\"T_735b4_row9_col9\" class=\"data row9 col9\" >0.000000</td>\n",
       "      <td id=\"T_735b4_row9_col10\" class=\"data row9 col10\" >0.000000</td>\n",
       "      <td id=\"T_735b4_row9_col11\" class=\"data row9 col11\" >0.000000</td>\n",
       "      <td id=\"T_735b4_row9_col12\" class=\"data row9 col12\" >0.000000</td>\n",
       "      <td id=\"T_735b4_row9_col13\" class=\"data row9 col13\" >0.000000</td>\n",
       "    </tr>\n",
       "    <tr>\n",
       "      <th id=\"T_735b4_level0_row10\" class=\"row_heading level0 row10\" >Nodule</th>\n",
       "      <td id=\"T_735b4_row10_col0\" class=\"data row10 col0\" >0.000000</td>\n",
       "      <td id=\"T_735b4_row10_col1\" class=\"data row10 col1\" >0.000000</td>\n",
       "      <td id=\"T_735b4_row10_col2\" class=\"data row10 col2\" >0.000000</td>\n",
       "      <td id=\"T_735b4_row10_col3\" class=\"data row10 col3\" >0.000000</td>\n",
       "      <td id=\"T_735b4_row10_col4\" class=\"data row10 col4\" >0.000000</td>\n",
       "      <td id=\"T_735b4_row10_col5\" class=\"data row10 col5\" >0.000000</td>\n",
       "      <td id=\"T_735b4_row10_col6\" class=\"data row10 col6\" >0.000000</td>\n",
       "      <td id=\"T_735b4_row10_col7\" class=\"data row10 col7\" >0.000000</td>\n",
       "      <td id=\"T_735b4_row10_col8\" class=\"data row10 col8\" >4.000000</td>\n",
       "      <td id=\"T_735b4_row10_col9\" class=\"data row10 col9\" >0.000000</td>\n",
       "      <td id=\"T_735b4_row10_col10\" class=\"data row10 col10\" >4.000000</td>\n",
       "      <td id=\"T_735b4_row10_col11\" class=\"data row10 col11\" >0.000000</td>\n",
       "      <td id=\"T_735b4_row10_col12\" class=\"data row10 col12\" >1.000000</td>\n",
       "      <td id=\"T_735b4_row10_col13\" class=\"data row10 col13\" >0.000000</td>\n",
       "    </tr>\n",
       "    <tr>\n",
       "      <th id=\"T_735b4_level0_row11\" class=\"row_heading level0 row11\" >Pleural_Thickening</th>\n",
       "      <td id=\"T_735b4_row11_col0\" class=\"data row11 col0\" >1.000000</td>\n",
       "      <td id=\"T_735b4_row11_col1\" class=\"data row11 col1\" >0.000000</td>\n",
       "      <td id=\"T_735b4_row11_col2\" class=\"data row11 col2\" >0.000000</td>\n",
       "      <td id=\"T_735b4_row11_col3\" class=\"data row11 col3\" >0.000000</td>\n",
       "      <td id=\"T_735b4_row11_col4\" class=\"data row11 col4\" >1.000000</td>\n",
       "      <td id=\"T_735b4_row11_col5\" class=\"data row11 col5\" >0.000000</td>\n",
       "      <td id=\"T_735b4_row11_col6\" class=\"data row11 col6\" >0.000000</td>\n",
       "      <td id=\"T_735b4_row11_col7\" class=\"data row11 col7\" >1.000000</td>\n",
       "      <td id=\"T_735b4_row11_col8\" class=\"data row11 col8\" >4.000000</td>\n",
       "      <td id=\"T_735b4_row11_col9\" class=\"data row11 col9\" >0.000000</td>\n",
       "      <td id=\"T_735b4_row11_col10\" class=\"data row11 col10\" >0.000000</td>\n",
       "      <td id=\"T_735b4_row11_col11\" class=\"data row11 col11\" >4.000000</td>\n",
       "      <td id=\"T_735b4_row11_col12\" class=\"data row11 col12\" >0.000000</td>\n",
       "      <td id=\"T_735b4_row11_col13\" class=\"data row11 col13\" >0.000000</td>\n",
       "    </tr>\n",
       "    <tr>\n",
       "      <th id=\"T_735b4_level0_row12\" class=\"row_heading level0 row12\" >Pneumonia</th>\n",
       "      <td id=\"T_735b4_row12_col0\" class=\"data row12 col0\" >0.000000</td>\n",
       "      <td id=\"T_735b4_row12_col1\" class=\"data row12 col1\" >0.000000</td>\n",
       "      <td id=\"T_735b4_row12_col2\" class=\"data row12 col2\" >0.000000</td>\n",
       "      <td id=\"T_735b4_row12_col3\" class=\"data row12 col3\" >0.000000</td>\n",
       "      <td id=\"T_735b4_row12_col4\" class=\"data row12 col4\" >0.000000</td>\n",
       "      <td id=\"T_735b4_row12_col5\" class=\"data row12 col5\" >0.000000</td>\n",
       "      <td id=\"T_735b4_row12_col6\" class=\"data row12 col6\" >0.000000</td>\n",
       "      <td id=\"T_735b4_row12_col7\" class=\"data row12 col7\" >0.000000</td>\n",
       "      <td id=\"T_735b4_row12_col8\" class=\"data row12 col8\" >1.000000</td>\n",
       "      <td id=\"T_735b4_row12_col9\" class=\"data row12 col9\" >0.000000</td>\n",
       "      <td id=\"T_735b4_row12_col10\" class=\"data row12 col10\" >1.000000</td>\n",
       "      <td id=\"T_735b4_row12_col11\" class=\"data row12 col11\" >0.000000</td>\n",
       "      <td id=\"T_735b4_row12_col12\" class=\"data row12 col12\" >1.000000</td>\n",
       "      <td id=\"T_735b4_row12_col13\" class=\"data row12 col13\" >0.000000</td>\n",
       "    </tr>\n",
       "    <tr>\n",
       "      <th id=\"T_735b4_level0_row13\" class=\"row_heading level0 row13\" >Pneumothorax</th>\n",
       "      <td id=\"T_735b4_row13_col0\" class=\"data row13 col0\" >0.000000</td>\n",
       "      <td id=\"T_735b4_row13_col1\" class=\"data row13 col1\" >0.000000</td>\n",
       "      <td id=\"T_735b4_row13_col2\" class=\"data row13 col2\" >0.000000</td>\n",
       "      <td id=\"T_735b4_row13_col3\" class=\"data row13 col3\" >0.000000</td>\n",
       "      <td id=\"T_735b4_row13_col4\" class=\"data row13 col4\" >0.000000</td>\n",
       "      <td id=\"T_735b4_row13_col5\" class=\"data row13 col5\" >0.000000</td>\n",
       "      <td id=\"T_735b4_row13_col6\" class=\"data row13 col6\" >0.000000</td>\n",
       "      <td id=\"T_735b4_row13_col7\" class=\"data row13 col7\" >0.000000</td>\n",
       "      <td id=\"T_735b4_row13_col8\" class=\"data row13 col8\" >2.000000</td>\n",
       "      <td id=\"T_735b4_row13_col9\" class=\"data row13 col9\" >0.000000</td>\n",
       "      <td id=\"T_735b4_row13_col10\" class=\"data row13 col10\" >0.000000</td>\n",
       "      <td id=\"T_735b4_row13_col11\" class=\"data row13 col11\" >0.000000</td>\n",
       "      <td id=\"T_735b4_row13_col12\" class=\"data row13 col12\" >0.000000</td>\n",
       "      <td id=\"T_735b4_row13_col13\" class=\"data row13 col13\" >2.000000</td>\n",
       "    </tr>\n",
       "  </tbody>\n",
       "</table>\n"
      ],
      "text/plain": [
       "<pandas.io.formats.style.Styler at 0x122ff8f10>"
      ]
     },
     "execution_count": 30,
     "metadata": {},
     "output_type": "execute_result"
    }
   ],
   "source": [
    "def _color_red_or_green(val):\n",
    "    if val >= 3:\n",
    "        color = 'red'\n",
    "    elif val in range(1,3):\n",
    "        color = 'yellow'\n",
    "    else:\n",
    "        color='green'\n",
    "    return 'color: %s' % color\n",
    "\n",
    "x = data[all_labels].T.dot(data[all_labels])\n",
    "x.style.applymap(_color_red_or_green)"
   ]
  },
  {
   "cell_type": "code",
   "execution_count": 13,
   "metadata": {},
   "outputs": [
    {
     "data": {
      "text/plain": [
       "['Atelectasis',\n",
       " 'Cardiomegaly',\n",
       " 'Consolidation',\n",
       " 'Edema',\n",
       " 'Effusion',\n",
       " 'Emphysema',\n",
       " 'Fibrosis',\n",
       " 'Infiltration',\n",
       " 'Mass',\n",
       " 'No Finding',\n",
       " 'Nodule',\n",
       " 'Pleural_Thickening',\n",
       " 'Pneumonia',\n",
       " 'Pneumothorax']"
      ]
     },
     "execution_count": 13,
     "metadata": {},
     "output_type": "execute_result"
    }
   ],
   "source": [
    "all_labels"
   ]
  },
  {
   "cell_type": "code",
   "execution_count": null,
   "metadata": {},
   "outputs": [],
   "source": []
  }
 ],
 "metadata": {
  "kernelspec": {
   "display_name": "Python 3 (ipykernel)",
   "language": "python",
   "name": "python3"
  },
  "language_info": {
   "codemirror_mode": {
    "name": "ipython",
    "version": 3
   },
   "file_extension": ".py",
   "mimetype": "text/x-python",
   "name": "python",
   "nbconvert_exporter": "python",
   "pygments_lexer": "ipython3",
   "version": "3.9.1"
  }
 },
 "nbformat": 4,
 "nbformat_minor": 4
}
