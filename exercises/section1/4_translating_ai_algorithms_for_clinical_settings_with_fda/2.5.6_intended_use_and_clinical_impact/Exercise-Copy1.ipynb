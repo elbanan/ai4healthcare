{
 "cells": [
  {
   "cell_type": "code",
   "execution_count": 1,
   "metadata": {},
   "outputs": [],
   "source": [
    "%matplotlib inline\n",
    "import pandas as pd\n",
    "import numpy as np\n",
    "import matplotlib.pyplot as plt\n",
    "import sklearn.metrics"
   ]
  },
  {
   "cell_type": "code",
   "execution_count": 2,
   "metadata": {},
   "outputs": [
    {
     "data": {
      "text/html": [
       "<div>\n",
       "<style scoped>\n",
       "    .dataframe tbody tr th:only-of-type {\n",
       "        vertical-align: middle;\n",
       "    }\n",
       "\n",
       "    .dataframe tbody tr th {\n",
       "        vertical-align: top;\n",
       "    }\n",
       "\n",
       "    .dataframe thead th {\n",
       "        text-align: right;\n",
       "    }\n",
       "</style>\n",
       "<table border=\"1\" class=\"dataframe\">\n",
       "  <thead>\n",
       "    <tr style=\"text-align: right;\">\n",
       "      <th></th>\n",
       "      <th>age</th>\n",
       "      <th>gender</th>\n",
       "      <th>num_prior_positive</th>\n",
       "      <th>race</th>\n",
       "      <th>scanner_type</th>\n",
       "      <th>ground_truth</th>\n",
       "      <th>algorithm_output</th>\n",
       "    </tr>\n",
       "  </thead>\n",
       "  <tbody>\n",
       "    <tr>\n",
       "      <th>0</th>\n",
       "      <td>53</td>\n",
       "      <td>F</td>\n",
       "      <td>0</td>\n",
       "      <td>hispanic</td>\n",
       "      <td>hologic</td>\n",
       "      <td>normal</td>\n",
       "      <td>normal</td>\n",
       "    </tr>\n",
       "    <tr>\n",
       "      <th>1</th>\n",
       "      <td>39</td>\n",
       "      <td>F</td>\n",
       "      <td>0</td>\n",
       "      <td>caucasian</td>\n",
       "      <td>hologic</td>\n",
       "      <td>normal</td>\n",
       "      <td>abnormal</td>\n",
       "    </tr>\n",
       "    <tr>\n",
       "      <th>2</th>\n",
       "      <td>56</td>\n",
       "      <td>F</td>\n",
       "      <td>0</td>\n",
       "      <td>african_american</td>\n",
       "      <td>hologic</td>\n",
       "      <td>normal</td>\n",
       "      <td>normal</td>\n",
       "    </tr>\n",
       "    <tr>\n",
       "      <th>3</th>\n",
       "      <td>44</td>\n",
       "      <td>F</td>\n",
       "      <td>0</td>\n",
       "      <td>caucasian</td>\n",
       "      <td>hologic</td>\n",
       "      <td>normal</td>\n",
       "      <td>abnormal</td>\n",
       "    </tr>\n",
       "    <tr>\n",
       "      <th>4</th>\n",
       "      <td>35</td>\n",
       "      <td>F</td>\n",
       "      <td>0</td>\n",
       "      <td>caucasian</td>\n",
       "      <td>hologic</td>\n",
       "      <td>normal</td>\n",
       "      <td>normal</td>\n",
       "    </tr>\n",
       "    <tr>\n",
       "      <th>5</th>\n",
       "      <td>46</td>\n",
       "      <td>F</td>\n",
       "      <td>0</td>\n",
       "      <td>african_american</td>\n",
       "      <td>hologic</td>\n",
       "      <td>normal</td>\n",
       "      <td>normal</td>\n",
       "    </tr>\n",
       "    <tr>\n",
       "      <th>6</th>\n",
       "      <td>52</td>\n",
       "      <td>F</td>\n",
       "      <td>0</td>\n",
       "      <td>hispanic</td>\n",
       "      <td>hologic</td>\n",
       "      <td>normal</td>\n",
       "      <td>normal</td>\n",
       "    </tr>\n",
       "    <tr>\n",
       "      <th>7</th>\n",
       "      <td>56</td>\n",
       "      <td>F</td>\n",
       "      <td>0</td>\n",
       "      <td>hispanic</td>\n",
       "      <td>hologic</td>\n",
       "      <td>normal</td>\n",
       "      <td>normal</td>\n",
       "    </tr>\n",
       "    <tr>\n",
       "      <th>8</th>\n",
       "      <td>57</td>\n",
       "      <td>F</td>\n",
       "      <td>0</td>\n",
       "      <td>caucasian</td>\n",
       "      <td>hologic</td>\n",
       "      <td>abnormal</td>\n",
       "      <td>abnormal</td>\n",
       "    </tr>\n",
       "    <tr>\n",
       "      <th>9</th>\n",
       "      <td>37</td>\n",
       "      <td>F</td>\n",
       "      <td>0</td>\n",
       "      <td>caucasian</td>\n",
       "      <td>hologic</td>\n",
       "      <td>normal</td>\n",
       "      <td>normal</td>\n",
       "    </tr>\n",
       "  </tbody>\n",
       "</table>\n",
       "</div>"
      ],
      "text/plain": [
       "   age gender  num_prior_positive              race scanner_type ground_truth  \\\n",
       "0   53      F                   0          hispanic      hologic       normal   \n",
       "1   39      F                   0         caucasian      hologic       normal   \n",
       "2   56      F                   0  african_american      hologic       normal   \n",
       "3   44      F                   0         caucasian      hologic       normal   \n",
       "4   35      F                   0         caucasian      hologic       normal   \n",
       "5   46      F                   0  african_american      hologic       normal   \n",
       "6   52      F                   0          hispanic      hologic       normal   \n",
       "7   56      F                   0          hispanic      hologic       normal   \n",
       "8   57      F                   0         caucasian      hologic     abnormal   \n",
       "9   37      F                   0         caucasian      hologic       normal   \n",
       "\n",
       "  algorithm_output  \n",
       "0           normal  \n",
       "1         abnormal  \n",
       "2           normal  \n",
       "3         abnormal  \n",
       "4           normal  \n",
       "5           normal  \n",
       "6           normal  \n",
       "7           normal  \n",
       "8         abnormal  \n",
       "9           normal  "
      ]
     },
     "execution_count": 2,
     "metadata": {},
     "output_type": "execute_result"
    }
   ],
   "source": [
    "demos = pd.read_csv('demographics.csv')\n",
    "demos.head(10)"
   ]
  },
  {
   "cell_type": "markdown",
   "metadata": {},
   "source": [
    "## Look at the distributions of age, gender, num_prior_positives, race, and scanner_type:"
   ]
  },
  {
   "cell_type": "code",
   "execution_count": 8,
   "metadata": {},
   "outputs": [
    {
     "data": {
      "text/plain": [
       "['hispanic', 'caucasian', 'african_american']"
      ]
     },
     "execution_count": 8,
     "metadata": {},
     "output_type": "execute_result"
    }
   ],
   "source": [
    "## YOUR CODE HERE\n",
    "age_min = demos.age.min()\n",
    "age_max = demos.age.max()\n",
    "demos.race.unique().tolist()\n",
    "\n",
    "\n"
   ]
  },
  {
   "cell_type": "markdown",
   "metadata": {},
   "source": [
    "### Statement on intended use/population: \n",
    "\n",
    "<<< your statement here >>>"
   ]
  },
  {
   "cell_type": "code",
   "execution_count": 22,
   "metadata": {},
   "outputs": [
    {
     "name": "stdout",
     "output_type": "stream",
     "text": [
      " This Algorithm is intended to assist radiologists detect breast cancers in ['hispanic', 'caucasian', 'african_american'] F patients aged between 35 and 61 with 0 prior positive exams who were scanned on a hologic scanner\n"
     ]
    }
   ],
   "source": [
    "print (' This Algorithm is intended to assist radiologists detect breast cancers in',\n",
    "       [x for x in demos.race.unique().tolist()],demos.gender.unique()[0],\n",
    "       'patients aged between',age_min, 'and', age_max, \n",
    "       'with', demos.num_prior_positive.unique()[0], 'prior positive exams',\n",
    "       'who were scanned on a', demos.scanner_type.unique()[0], 'scanner'\n",
    "      \n",
    "      )"
   ]
  },
  {
   "cell_type": "code",
   "execution_count": null,
   "metadata": {},
   "outputs": [],
   "source": []
  }
 ],
 "metadata": {
  "kernelspec": {
   "display_name": "Python 3 (ipykernel)",
   "language": "python",
   "name": "python3"
  },
  "language_info": {
   "codemirror_mode": {
    "name": "ipython",
    "version": 3
   },
   "file_extension": ".py",
   "mimetype": "text/x-python",
   "name": "python",
   "nbconvert_exporter": "python",
   "pygments_lexer": "ipython3",
   "version": "3.9.1"
  }
 },
 "nbformat": 4,
 "nbformat_minor": 4
}
