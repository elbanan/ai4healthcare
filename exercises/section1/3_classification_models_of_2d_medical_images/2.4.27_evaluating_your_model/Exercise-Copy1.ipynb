{
 "cells": [
  {
   "cell_type": "code",
   "execution_count": 1,
   "metadata": {},
   "outputs": [],
   "source": [
    "import numpy as np \n",
    "import pandas as pd \n",
    "import os\n",
    "from glob import glob\n",
    "%matplotlib inline\n",
    "import matplotlib.pyplot as plt\n",
    "import tensorflow as tf\n",
    "from skimage import io\n",
    "\n",
    "from keras.preprocessing.image import ImageDataGenerator\n",
    "from keras.layers import GlobalAveragePooling2D, Dense, Dropout, Flatten, Conv2D, MaxPooling2D\n",
    "from keras.models import Sequential, Model\n",
    "from keras.applications.vgg16 import VGG16\n",
    "from keras.applications.resnet import ResNet50 \n",
    "from keras.optimizers import adam_v2\n",
    "from keras.callbacks import ModelCheckpoint, LearningRateScheduler, EarlyStopping, ReduceLROnPlateau"
   ]
  },
  {
   "cell_type": "code",
   "execution_count": 2,
   "metadata": {},
   "outputs": [],
   "source": [
    "train_df = pd.read_csv('train.csv')\n",
    "valid_df = pd.read_csv('test.csv')"
   ]
  },
  {
   "cell_type": "markdown",
   "metadata": {},
   "source": [
    "## Image Augmentation:\n",
    "(no code changes needed)"
   ]
  },
  {
   "cell_type": "code",
   "execution_count": 3,
   "metadata": {},
   "outputs": [],
   "source": [
    "IMG_SIZE = (224, 224)"
   ]
  },
  {
   "cell_type": "code",
   "execution_count": 4,
   "metadata": {},
   "outputs": [
    {
     "name": "stdout",
     "output_type": "stream",
     "text": [
      "Found 20 validated image filenames belonging to 2 classes.\n",
      "Found 6 validated image filenames belonging to 2 classes.\n"
     ]
    }
   ],
   "source": [
    "train_idg = ImageDataGenerator(rescale=1. / 255.0,\n",
    "                              horizontal_flip = True, \n",
    "                              vertical_flip = False, \n",
    "                              height_shift_range= 0.1, \n",
    "                              width_shift_range=0.1, \n",
    "                              rotation_range=20, \n",
    "                              shear_range = 0.1,\n",
    "                              zoom_range=0.1)\n",
    "\n",
    "train_gen = train_idg.flow_from_dataframe(dataframe=train_df, \n",
    "                                         directory=None, \n",
    "                                         x_col = 'img_path',\n",
    "                                         y_col = 'class',\n",
    "                                         class_mode = 'binary',\n",
    "                                         target_size = IMG_SIZE, \n",
    "                                         batch_size = 9\n",
    "                                         )\n",
    "\n",
    "# Note that the validation data should not be augmented! We only want to do some basic intensity rescaling here\n",
    "val_idg = ImageDataGenerator(rescale=1. / 255.0\n",
    "                                 )\n",
    "\n",
    "val_gen = val_idg.flow_from_dataframe(dataframe=valid_df, \n",
    "                                         directory=None, \n",
    "                                         x_col = 'img_path',\n",
    "                                         y_col = 'class',\n",
    "                                         class_mode = 'binary',\n",
    "                                         target_size = IMG_SIZE, \n",
    "                                         batch_size = 6) ## We've only been provided with 6 validation images"
   ]
  },
  {
   "cell_type": "code",
   "execution_count": 5,
   "metadata": {},
   "outputs": [],
   "source": [
    "## Pull a single large batch of random validation data for testing after each epoch\n",
    "testX, testY = val_gen.next()"
   ]
  },
  {
   "cell_type": "markdown",
   "metadata": {},
   "source": [
    "## Load in VGG16 with pre-trained ImageNet weights: \n",
    "(No code changes needed):"
   ]
  },
  {
   "cell_type": "code",
   "execution_count": 7,
   "metadata": {},
   "outputs": [],
   "source": [
    "model = VGG16(include_top=True, weights='imagenet');"
   ]
  },
  {
   "cell_type": "code",
   "execution_count": 8,
   "metadata": {},
   "outputs": [],
   "source": [
    "transfer_layer = model.get_layer('block5_pool')\n",
    "vgg_model = Model(inputs=model.input,\n",
    "                   outputs=transfer_layer.output)"
   ]
  },
  {
   "cell_type": "code",
   "execution_count": 9,
   "metadata": {},
   "outputs": [],
   "source": [
    "## Now, choose which layers of VGG16 we actually want to fine-tune (if any)\n",
    "## Here, we'll freeze all but the last convolutional layer\n",
    "for layer in vgg_model.layers[0:17]:\n",
    "    layer.trainable = False"
   ]
  },
  {
   "cell_type": "code",
   "execution_count": 50,
   "metadata": {},
   "outputs": [],
   "source": [
    "new_model = Sequential()\n",
    "\n",
    "# Add the convolutional part of the VGG16 model from above.\n",
    "new_model.add(vgg_model)\n",
    "\n",
    "# Flatten the output of the VGG16 model because it is from a\n",
    "# convolutional layer.\n",
    "new_model.add(Flatten())\n",
    "\n",
    "# Add a dropout-layer which may prevent overfitting and\n",
    "# improve generalization ability to unseen data e.g. the test-set.\n",
    "new_model.add(Dropout(0.5))\n",
    "\n",
    "# Add a dense (aka. fully-connected) layer.\n",
    "# This is for combining features that the VGG16 model has\n",
    "# recognized in the image.\n",
    "new_model.add(Dense(1024, activation='relu'))\n",
    "\n",
    "# Add a dropout-layer which may prevent overfitting and\n",
    "# improve generalization ability to unseen data e.g. the test-set.\n",
    "new_model.add(Dropout(0.5))\n",
    "\n",
    "# Add a dense (aka. fully-connected) layer.\n",
    "# This is for combining features that the VGG16 model has\n",
    "# recognized in the image.\n",
    "new_model.add(Dense(512, activation='relu'))\n",
    "\n",
    "# Add a dropout-layer which may prevent overfitting and\n",
    "# improve generalization ability to unseen data e.g. the test-set.\n",
    "new_model.add(Dropout(0.5))\n",
    "\n",
    "# Add a dense (aka. fully-connected) layer.\n",
    "# This is for combining features that the VGG16 model has\n",
    "# recognized in the image.\n",
    "new_model.add(Dense(256, activation='relu'))\n",
    "\n",
    "# Add a dropout-layer which may prevent overfitting and\n",
    "# improve generalization ability to unseen data e.g. the test-set.\n",
    "new_model.add(Dropout(0.5))\n",
    "\n",
    "# Add a dense (aka. fully-connected) layer.\n",
    "# This is for combining features that the VGG16 model has\n",
    "# recognized in the image.\n",
    "new_model.add(Dense(1, activation='relu'))"
   ]
  },
  {
   "cell_type": "code",
   "execution_count": 51,
   "metadata": {},
   "outputs": [],
   "source": [
    "## Set our optimizer, loss function, and learning rate\n",
    "optimizer = adam_v2.Adam(learning_rate=1e-4)\n",
    "loss = 'binary_crossentropy'\n",
    "metrics = ['binary_accuracy']"
   ]
  },
  {
   "cell_type": "code",
   "execution_count": 52,
   "metadata": {},
   "outputs": [],
   "source": [
    "new_model.compile(optimizer=optimizer, loss=loss, metrics=metrics)"
   ]
  },
  {
   "cell_type": "code",
   "execution_count": 53,
   "metadata": {},
   "outputs": [
    {
     "name": "stdout",
     "output_type": "stream",
     "text": [
      "Epoch 1/10\n",
      "3/3 [==============================] - 11s 3s/step - loss: 11.5628 - binary_accuracy: 0.2472 - val_loss: 7.7125 - val_binary_accuracy: 0.5000\n",
      "Epoch 2/10\n",
      "3/3 [==============================] - 6s 2s/step - loss: 5.8672 - binary_accuracy: 0.5475 - val_loss: 7.7125 - val_binary_accuracy: 0.5000\n",
      "Epoch 3/10\n",
      "3/3 [==============================] - 8s 3s/step - loss: 9.1791 - binary_accuracy: 0.3389 - val_loss: 1.1530 - val_binary_accuracy: 0.5000\n",
      "Epoch 4/10\n",
      "3/3 [==============================] - 6s 2s/step - loss: 6.5409 - binary_accuracy: 0.5753 - val_loss: 0.8714 - val_binary_accuracy: 0.5000\n",
      "Epoch 5/10\n",
      "3/3 [==============================] - 6s 2s/step - loss: 5.4931 - binary_accuracy: 0.5503 - val_loss: 7.6545 - val_binary_accuracy: 0.5000\n",
      "Epoch 6/10\n",
      "3/3 [==============================] - 6s 2s/step - loss: 7.2017 - binary_accuracy: 0.3770 - val_loss: 7.6246 - val_binary_accuracy: 0.5000\n",
      "Epoch 7/10\n",
      "3/3 [==============================] - 7s 3s/step - loss: 5.5495 - binary_accuracy: 0.4886 - val_loss: 7.6246 - val_binary_accuracy: 0.5000\n",
      "Epoch 8/10\n",
      "3/3 [==============================] - 6s 3s/step - loss: 5.7152 - binary_accuracy: 0.6068 - val_loss: 7.6246 - val_binary_accuracy: 0.5000\n",
      "Epoch 9/10\n",
      "3/3 [==============================] - 6s 3s/step - loss: 6.5395 - binary_accuracy: 0.4886 - val_loss: 7.6246 - val_binary_accuracy: 0.5000\n",
      "Epoch 10/10\n",
      "3/3 [==============================] - 6s 2s/step - loss: 7.0293 - binary_accuracy: 0.4753 - val_loss: 7.6246 - val_binary_accuracy: 0.5000\n"
     ]
    }
   ],
   "source": [
    "## Run for 10 epochs to see if any learning occurs:\n",
    "history = new_model.fit(train_gen, \n",
    "                                  validation_data = (testX, testY), \n",
    "                                  epochs = 10)"
   ]
  },
  {
   "cell_type": "markdown",
   "metadata": {},
   "source": [
    "### Write a function below to plot the output of your training that is stored in the 'history' variable from above: "
   ]
  },
  {
   "cell_type": "code",
   "execution_count": 60,
   "metadata": {},
   "outputs": [],
   "source": [
    "# Define a function here that will plot loss, val_loss, binary_accuracy, and val_binary_accuracy over all of \n",
    "# your epochs: \n",
    "\n",
    "\n",
    "    ### YOUR CODE HERE\n",
    "def plot_history(history):\n",
    "    N = len(history.history[\"loss\"])\n",
    "    plt.style.use(\"ggplot\")\n",
    "    plt.figure()\n",
    "#     plt.plot(np.arange(0, N), history.history[\"loss\"], label=\"train_loss\")\n",
    "    plt.plot(np.arange(0, N), history.history[\"val_loss\"], label=\"val_loss\")\n",
    "    plt.plot(np.arange(0, N), history.history[\"binary_accuracy\"], label=\"train_acc\")\n",
    "    plt.plot(np.arange(0, N), history.history[\"val_binary_accuracy\"], label=\"val_acc\")\n",
    "    plt.title(\"Training Loss and Accuracy on Dataset\")\n",
    "    plt.xlabel(\"Epoch #\")\n",
    "    plt.ylabel(\"Loss/Accuracy\")\n",
    "    plt.legend(loc=\"lower left\")\n"
   ]
  },
  {
   "cell_type": "code",
   "execution_count": 54,
   "metadata": {},
   "outputs": [
    {
     "data": {
      "image/png": "[encoded data removed]",
      "text/plain": [
       "<Figure size 432x288 with 1 Axes>"
      ]
     },
     "metadata": {},
     "output_type": "display_data"
    }
   ],
   "source": [
    "plot_history(history)"
   ]
  },
  {
   "cell_type": "markdown",
   "metadata": {},
   "source": [
    "## Try a model with less dropout, same learning rate: "
   ]
  },
  {
   "cell_type": "code",
   "execution_count": 44,
   "metadata": {},
   "outputs": [],
   "source": [
    "## COPY AND PASTE THE ARCHITECTURE FROM ABOVE, BUT CHANGE THE AMOUNT OF DROPOUT\n",
    "\n",
    "new_model = Sequential()\n",
    "\n",
    "# Add the convolutional part of the VGG16 model from above.\n",
    "new_model.add(vgg_model)\n",
    "\n",
    "# Flatten the output of the VGG16 model because it is from a\n",
    "# convolutional layer.\n",
    "new_model.add(Flatten())\n",
    "\n",
    "# Add a dropout-layer which may prevent overfitting and\n",
    "# improve generalization ability to unseen data e.g. the test-set.\n",
    "new_model.add(Dropout(0.2))\n",
    "\n",
    "# Add a dense (aka. fully-connected) layer.\n",
    "# This is for combining features that the VGG16 model has\n",
    "# recognized in the image.\n",
    "new_model.add(Dense(1024, activation='relu'))\n",
    "\n",
    "# Add a dropout-layer which may prevent overfitting and\n",
    "# improve generalization ability to unseen data e.g. the test-set.\n",
    "new_model.add(Dropout(0.2))\n",
    "\n",
    "# Add a dense (aka. fully-connected) layer.\n",
    "# This is for combining features that the VGG16 model has\n",
    "# recognized in the image.\n",
    "new_model.add(Dense(512, activation='relu'))\n",
    "\n",
    "# Add a dropout-layer which may prevent overfitting and\n",
    "# improve generalization ability to unseen data e.g. the test-set.\n",
    "new_model.add(Dropout(0.2))\n",
    "\n",
    "# Add a dense (aka. fully-connected) layer.\n",
    "# This is for combining features that the VGG16 model has\n",
    "# recognized in the image.\n",
    "new_model.add(Dense(256, activation='relu'))\n",
    "\n",
    "# Add a dropout-layer which may prevent overfitting and\n",
    "# improve generalization ability to unseen data e.g. the test-set.\n",
    "new_model.add(Dropout(0.2))\n",
    "\n",
    "# Add a dense (aka. fully-connected) layer.\n",
    "# This is for combining features that the VGG16 model has\n",
    "# recognized in the image.\n",
    "new_model.add(Dense(1, activation='relu'))"
   ]
  },
  {
   "cell_type": "code",
   "execution_count": 45,
   "metadata": {},
   "outputs": [],
   "source": [
    "new_model.compile(optimizer=optimizer, loss=loss, metrics=metrics)"
   ]
  },
  {
   "cell_type": "code",
   "execution_count": 46,
   "metadata": {},
   "outputs": [
    {
     "name": "stdout",
     "output_type": "stream",
     "text": [
      "Epoch 1/10\n",
      "3/3 [==============================] - 9s 2s/step - loss: 6.9922 - binary_accuracy: 0.5139 - val_loss: 0.7552 - val_binary_accuracy: 0.3333\n",
      "Epoch 2/10\n",
      "3/3 [==============================] - 6s 2s/step - loss: 7.1095 - binary_accuracy: 0.4475 - val_loss: 7.6246 - val_binary_accuracy: 0.5000\n",
      "Epoch 3/10\n",
      "3/3 [==============================] - 7s 2s/step - loss: 5.1937 - binary_accuracy: 0.4611 - val_loss: 1.1006 - val_binary_accuracy: 0.5000\n",
      "Epoch 4/10\n",
      "3/3 [==============================] - 8s 2s/step - loss: 5.6418 - binary_accuracy: 0.4975 - val_loss: 7.6246 - val_binary_accuracy: 0.5000\n",
      "Epoch 5/10\n",
      "3/3 [==============================] - 7s 2s/step - loss: 4.4156 - binary_accuracy: 0.5503 - val_loss: 2.9584 - val_binary_accuracy: 0.6667\n",
      "Epoch 6/10\n",
      "3/3 [==============================] - 8s 3s/step - loss: 5.3213 - binary_accuracy: 0.5944 - val_loss: 3.7402 - val_binary_accuracy: 0.6667\n",
      "Epoch 7/10\n",
      "3/3 [==============================] - 7s 3s/step - loss: 2.3533 - binary_accuracy: 0.7818 - val_loss: 3.1217 - val_binary_accuracy: 0.6667\n",
      "Epoch 8/10\n",
      "3/3 [==============================] - 7s 2s/step - loss: 4.5747 - binary_accuracy: 0.5753 - val_loss: 5.0848 - val_binary_accuracy: 0.6667\n",
      "Epoch 9/10\n",
      "3/3 [==============================] - 7s 3s/step - loss: 5.3650 - binary_accuracy: 0.5614 - val_loss: 2.8289 - val_binary_accuracy: 0.6667\n",
      "Epoch 10/10\n",
      "3/3 [==============================] - 7s 3s/step - loss: 2.5710 - binary_accuracy: 0.5841 - val_loss: 5.1029 - val_binary_accuracy: 0.6667\n"
     ]
    }
   ],
   "source": [
    "history = new_model.fit(train_gen, \n",
    "                                  validation_data = (testX, testY), \n",
    "                                  epochs = 10)"
   ]
  },
  {
   "cell_type": "code",
   "execution_count": 49,
   "metadata": {},
   "outputs": [
    {
     "data": {
      "image/png": "[encoded data removed]",
      "text/plain": [
       "<Figure size 432x288 with 1 Axes>"
      ]
     },
     "metadata": {},
     "output_type": "display_data"
    }
   ],
   "source": [
    "plot_history(history)"
   ]
  },
  {
   "cell_type": "markdown",
   "metadata": {},
   "source": [
    "## Finally, try a model with the same amount of dropout as you initiall had, but a slower learning rate: "
   ]
  },
  {
   "cell_type": "code",
   "execution_count": 55,
   "metadata": {},
   "outputs": [],
   "source": [
    "## COPY AND PASTE THE ARCHITECTURE FROM THE FIRST EXAMPLE\n",
    "new_model = Sequential()\n",
    "\n",
    "# Add the convolutional part of the VGG16 model from above.\n",
    "new_model.add(vgg_model)\n",
    "\n",
    "# Flatten the output of the VGG16 model because it is from a\n",
    "# convolutional layer.\n",
    "new_model.add(Flatten())\n",
    "\n",
    "# Add a dropout-layer which may prevent overfitting and\n",
    "# improve generalization ability to unseen data e.g. the test-set.\n",
    "new_model.add(Dropout(0.5))\n",
    "\n",
    "# Add a dense (aka. fully-connected) layer.\n",
    "# This is for combining features that the VGG16 model has\n",
    "# recognized in the image.\n",
    "new_model.add(Dense(1024, activation='relu'))\n",
    "\n",
    "# Add a dropout-layer which may prevent overfitting and\n",
    "# improve generalization ability to unseen data e.g. the test-set.\n",
    "new_model.add(Dropout(0.5))\n",
    "\n",
    "# Add a dense (aka. fully-connected) layer.\n",
    "# This is for combining features that the VGG16 model has\n",
    "# recognized in the image.\n",
    "new_model.add(Dense(512, activation='relu'))\n",
    "\n",
    "# Add a dropout-layer which may prevent overfitting and\n",
    "# improve generalization ability to unseen data e.g. the test-set.\n",
    "new_model.add(Dropout(0.5))\n",
    "\n",
    "# Add a dense (aka. fully-connected) layer.\n",
    "# This is for combining features that the VGG16 model has\n",
    "# recognized in the image.\n",
    "new_model.add(Dense(256, activation='relu'))\n",
    "\n",
    "# Add a dropout-layer which may prevent overfitting and\n",
    "# improve generalization ability to unseen data e.g. the test-set.\n",
    "new_model.add(Dropout(0.5))\n",
    "\n",
    "# Add a dense (aka. fully-connected) layer.\n",
    "# This is for combining features that the VGG16 model has\n",
    "# recognized in the image.\n",
    "new_model.add(Dense(1, activation='relu'))"
   ]
  },
  {
   "cell_type": "code",
   "execution_count": 56,
   "metadata": {},
   "outputs": [],
   "source": [
    "## CHANGE THE LEARNING RATE DEFINED IN Adam():\n",
    "\n",
    "optimizer = adam_v2.Adam(learning_rate=1e-6)\n",
    "loss = 'binary_crossentropy'\n",
    "metrics = ['binary_accuracy']"
   ]
  },
  {
   "cell_type": "code",
   "execution_count": 57,
   "metadata": {},
   "outputs": [],
   "source": [
    "new_model.compile(optimizer=optimizer, loss=loss, metrics=metrics)"
   ]
  },
  {
   "cell_type": "code",
   "execution_count": 58,
   "metadata": {},
   "outputs": [
    {
     "name": "stdout",
     "output_type": "stream",
     "text": [
      "Epoch 1/10\n",
      "3/3 [==============================] - 9s 2s/step - loss: 5.2040 - binary_accuracy: 0.5247 - val_loss: 0.9527 - val_binary_accuracy: 0.5000\n",
      "Epoch 2/10\n",
      "3/3 [==============================] - 7s 3s/step - loss: 4.3046 - binary_accuracy: 0.6591 - val_loss: 0.9503 - val_binary_accuracy: 0.5000\n",
      "Epoch 3/10\n",
      "3/3 [==============================] - 6s 3s/step - loss: 6.1211 - binary_accuracy: 0.5614 - val_loss: 0.9481 - val_binary_accuracy: 0.5000\n",
      "Epoch 4/10\n",
      "3/3 [==============================] - 7s 3s/step - loss: 2.6194 - binary_accuracy: 0.6341 - val_loss: 0.9512 - val_binary_accuracy: 0.5000\n",
      "Epoch 5/10\n",
      "3/3 [==============================] - 6s 3s/step - loss: 7.7414 - binary_accuracy: 0.3386 - val_loss: 0.9467 - val_binary_accuracy: 0.5000\n",
      "Epoch 6/10\n",
      "3/3 [==============================] - 6s 2s/step - loss: 9.8933 - binary_accuracy: 0.2482 - val_loss: 0.9387 - val_binary_accuracy: 0.5000\n",
      "Epoch 7/10\n",
      "3/3 [==============================] - 6s 3s/step - loss: 5.7366 - binary_accuracy: 0.6341 - val_loss: 0.9313 - val_binary_accuracy: 0.5000\n",
      "Epoch 8/10\n",
      "3/3 [==============================] - 7s 3s/step - loss: 5.2833 - binary_accuracy: 0.4432 - val_loss: 0.9289 - val_binary_accuracy: 0.5000\n",
      "Epoch 9/10\n",
      "3/3 [==============================] - 7s 3s/step - loss: 8.4230 - binary_accuracy: 0.3636 - val_loss: 0.9308 - val_binary_accuracy: 0.5000\n",
      "Epoch 10/10\n",
      "3/3 [==============================] - 7s 2s/step - loss: 5.9344 - binary_accuracy: 0.4861 - val_loss: 0.9328 - val_binary_accuracy: 0.5000\n"
     ]
    }
   ],
   "source": [
    "history = new_model.fit(train_gen, \n",
    "                                  validation_data = (testX, testY), \n",
    "                                  epochs = 10)"
   ]
  },
  {
   "cell_type": "code",
   "execution_count": 61,
   "metadata": {},
   "outputs": [
    {
     "data": {
      "image/png": "[encoded data removed]",
      "text/plain": [
       "<Figure size 432x288 with 1 Axes>"
      ]
     },
     "metadata": {},
     "output_type": "display_data"
    }
   ],
   "source": [
    "plot_history(history)"
   ]
  },
  {
   "cell_type": "code",
   "execution_count": null,
   "metadata": {},
   "outputs": [],
   "source": []
  }
 ],
 "metadata": {
  "kernelspec": {
   "display_name": "Python 3 (ipykernel)",
   "language": "python",
   "name": "python3"
  },
  "language_info": {
   "codemirror_mode": {
    "name": "ipython",
    "version": 3
   },
   "file_extension": ".py",
   "mimetype": "text/x-python",
   "name": "python",
   "nbconvert_exporter": "python",
   "pygments_lexer": "ipython3",
   "version": "3.9.1"
  }
 },
 "nbformat": 4,
 "nbformat_minor": 4
}
